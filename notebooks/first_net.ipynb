{
 "cells": [
  {
   "cell_type": "code",
   "execution_count": 1,
   "id": "b67f1939",
   "metadata": {},
   "outputs": [],
   "source": [
    "import pickle\n",
    "import numpy as np\n",
    "import torch\n",
    "from torch.utils.data import Dataset\n",
    "\n",
    "# Load ViT image embeddings\n",
    "with open('/home/maria/Documents/HuggingMouseData/MouseViTEmbeddings/google_vit-base-patch16-224_embeddings_softmax.pkl', 'rb') as f:\n",
    "    image_embeddings_dict = pickle.load(f)\n",
    "\n",
    "# Extract and repeat embeddings\n",
    "image_embeddings = image_embeddings_dict['natural_scenes']  # shape (118, D)\n",
    "image_embeddings_repeated = np.repeat(image_embeddings, 50, axis=0)  # (5900, D)\n",
    "assert image_embeddings_repeated.shape[0] == 5900\n",
    "\n",
    "# Load calcium event data\n",
    "events = np.load('/home/maria/Documents/AllenBrainObservatory/neural_activity_matrices/500860585_neural_responses.npy')  # (N_neurons, 5900)\n",
    "\n",
    "class NeuronVisionDataset(Dataset):\n",
    "    def __init__(self, image_embeddings, neural_events):\n",
    "        assert image_embeddings.shape[0] == neural_events.shape[1]\n",
    "        self.image_embeddings = torch.tensor(image_embeddings, dtype=torch.float32)\n",
    "        self.neural_events = torch.tensor(neural_events.T, dtype=torch.float32)  # (5900, N_neurons)\n",
    "\n",
    "    def __len__(self):\n",
    "        return self.image_embeddings.shape[0]\n",
    "\n",
    "    def __getitem__(self, idx):\n",
    "        return {\n",
    "            \"image_embedding\": self.image_embeddings[idx],   # (D,)\n",
    "            \"neural_activity\": self.neural_events[idx]       # (N_neurons,)\n",
    "        }\n"
   ]
  },
  {
   "cell_type": "code",
   "execution_count": 2,
   "id": "76a03d59",
   "metadata": {},
   "outputs": [],
   "source": [
    "import torch\n",
    "import torch.nn as nn\n",
    "import torch.nn.functional as F\n",
    "\n",
    "class PixelAttentionModel(nn.Module):\n",
    "    def __init__(self, image_dim, neuron_dim, num_neurons, attention_dim=32):\n",
    "        super().__init__()\n",
    "        self.image_dim = image_dim\n",
    "        self.neuron_dim = neuron_dim\n",
    "        self.num_neurons = num_neurons\n",
    "        self.feature_dim = image_dim + neuron_dim\n",
    "\n",
    "        self.neuron_embeddings = nn.Parameter(torch.randn(num_neurons, neuron_dim))\n",
    "\n",
    "        self.to_q = nn.Linear(1, attention_dim)\n",
    "        self.to_k = nn.Linear(1, attention_dim)\n",
    "        self.to_v = nn.Linear(1, attention_dim)\n",
    "\n",
    "        self.output_proj = nn.Linear(self.feature_dim * attention_dim, 1)\n",
    "\n",
    "    def forward(self, image_embedding, neuron_idx):\n",
    "        B, D = image_embedding.shape\n",
    "        neuron_idx = neuron_idx.to(torch.long)\n",
    "\n",
    "        if neuron_idx.ndim == 1:\n",
    "            K = 1\n",
    "            neuron_emb = self.neuron_embeddings[neuron_idx]  # (B, D')\n",
    "        elif neuron_idx.ndim == 2:\n",
    "            K = neuron_idx.shape[1]\n",
    "            neuron_emb = self.neuron_embeddings[neuron_idx]  # (B, K, D')\n",
    "        else:\n",
    "            raise ValueError(\"neuron_idx must be shape (B,) or (B, K)\")\n",
    "\n",
    "        # Expand image embedding\n",
    "        if K == 1:\n",
    "            image_exp = image_embedding  # (B, D)\n",
    "        else:\n",
    "            image_exp = image_embedding.unsqueeze(1).expand(-1, K, -1)  # (B, K, D)\n",
    "\n",
    "        # Concatenate → (B, K, D + D')\n",
    "        combined = torch.cat([image_exp, neuron_emb], dim=-1)  # (B, K, D + D')\n",
    "\n",
    "        # Reshape to treat feature indices as sequence\n",
    "        B_flat = B * K if K > 1 else B\n",
    "        feature_len = self.feature_dim\n",
    "        x = combined.view(B_flat, feature_len, 1)  # (B*K, F, 1)\n",
    "\n",
    "        # Compute QKV\n",
    "        Q = self.to_q(x)  # (B*K, F, A)\n",
    "        K_ = self.to_k(x)\n",
    "        V = self.to_v(x)\n",
    "\n",
    "        attn_scores = torch.matmul(Q, K_.transpose(-2, -1)) / (Q.shape[-1] ** 0.5)\n",
    "        attn_weights = F.softmax(attn_scores, dim=-1)\n",
    "        attn_out = torch.matmul(attn_weights, V)  # (B*K, F, A)\n",
    "\n",
    "        # Project output\n",
    "        attn_out_flat = attn_out.view(B_flat, -1)\n",
    "        output = self.output_proj(attn_out_flat).squeeze(-1)  # (B*K,)\n",
    "\n",
    "        return output.view(B, K) if K > 1 else output.view(B)\n"
   ]
  },
  {
   "cell_type": "code",
   "execution_count": 4,
   "id": "d7e2c2de",
   "metadata": {},
   "outputs": [
    {
     "name": "stderr",
     "output_type": "stream",
     "text": [
      "Epoch 1/10: 100%|██████████| 369/369 [00:55<00:00,  6.63it/s]\n"
     ]
    },
    {
     "name": "stdout",
     "output_type": "stream",
     "text": [
      "Epoch 1: Loss=0.2923, Accuracy=0.9276\n"
     ]
    },
    {
     "name": "stderr",
     "output_type": "stream",
     "text": [
      "Epoch 2/10: 100%|██████████| 369/369 [00:57<00:00,  6.45it/s]\n"
     ]
    },
    {
     "name": "stdout",
     "output_type": "stream",
     "text": [
      "Epoch 2: Loss=0.2450, Accuracy=0.9327\n"
     ]
    },
    {
     "name": "stderr",
     "output_type": "stream",
     "text": [
      "Epoch 3/10: 100%|██████████| 369/369 [00:58<00:00,  6.36it/s]\n"
     ]
    },
    {
     "name": "stdout",
     "output_type": "stream",
     "text": [
      "Epoch 3: Loss=0.2408, Accuracy=0.9332\n"
     ]
    },
    {
     "name": "stderr",
     "output_type": "stream",
     "text": [
      "Epoch 4/10: 100%|██████████| 369/369 [00:59<00:00,  6.15it/s]\n"
     ]
    },
    {
     "name": "stdout",
     "output_type": "stream",
     "text": [
      "Epoch 4: Loss=0.2368, Accuracy=0.9335\n"
     ]
    },
    {
     "name": "stderr",
     "output_type": "stream",
     "text": [
      "Epoch 5/10: 100%|██████████| 369/369 [01:04<00:00,  5.75it/s]\n"
     ]
    },
    {
     "name": "stdout",
     "output_type": "stream",
     "text": [
      "Epoch 5: Loss=0.2354, Accuracy=0.9334\n"
     ]
    },
    {
     "name": "stderr",
     "output_type": "stream",
     "text": [
      "Epoch 6/10: 100%|██████████| 369/369 [01:07<00:00,  5.43it/s]\n"
     ]
    },
    {
     "name": "stdout",
     "output_type": "stream",
     "text": [
      "Epoch 6: Loss=0.2342, Accuracy=0.9331\n"
     ]
    },
    {
     "name": "stderr",
     "output_type": "stream",
     "text": [
      "Epoch 7/10: 100%|██████████| 369/369 [01:06<00:00,  5.56it/s]\n"
     ]
    },
    {
     "name": "stdout",
     "output_type": "stream",
     "text": [
      "Epoch 7: Loss=0.2338, Accuracy=0.9328\n"
     ]
    },
    {
     "name": "stderr",
     "output_type": "stream",
     "text": [
      "Epoch 8/10: 100%|██████████| 369/369 [01:07<00:00,  5.46it/s]\n"
     ]
    },
    {
     "name": "stdout",
     "output_type": "stream",
     "text": [
      "Epoch 8: Loss=0.2321, Accuracy=0.9338\n"
     ]
    },
    {
     "name": "stderr",
     "output_type": "stream",
     "text": [
      "Epoch 9/10: 100%|██████████| 369/369 [01:11<00:00,  5.18it/s]\n"
     ]
    },
    {
     "name": "stdout",
     "output_type": "stream",
     "text": [
      "Epoch 9: Loss=0.2346, Accuracy=0.9322\n"
     ]
    },
    {
     "name": "stderr",
     "output_type": "stream",
     "text": [
      "Epoch 10/10: 100%|██████████| 369/369 [01:14<00:00,  4.92it/s]"
     ]
    },
    {
     "name": "stdout",
     "output_type": "stream",
     "text": [
      "Epoch 10: Loss=0.2323, Accuracy=0.9332\n"
     ]
    },
    {
     "name": "stderr",
     "output_type": "stream",
     "text": [
      "\n"
     ]
    }
   ],
   "source": [
    "import torch\n",
    "from torch.utils.data import DataLoader\n",
    "import torch.nn.functional as F\n",
    "from tqdm import tqdm\n",
    "\n",
    "# Parameters\n",
    "batch_size = 16\n",
    "neuron_batch_size = 32\n",
    "epochs = 10\n",
    "learning_rate = 1e-3\n",
    "\n",
    "# Dataset and DataLoader\n",
    "dataset = NeuronVisionDataset(image_embeddings_repeated, events)\n",
    "dataloader = DataLoader(dataset, batch_size=batch_size, shuffle=True)\n",
    "\n",
    "# Model\n",
    "image_dim = image_embeddings_repeated.shape[1]\n",
    "num_neurons = events.shape[0]\n",
    "neuron_dim = 32\n",
    "attention_dim = 16\n",
    "\n",
    "model = PixelAttentionModel(image_dim, neuron_dim, num_neurons, attention_dim)\n",
    "device = torch.device(\"cuda\" if torch.cuda.is_available() else \"cpu\")\n",
    "model.to(device)\n",
    "\n",
    "optimizer = torch.optim.Adam(model.parameters(), lr=learning_rate)\n",
    "\n",
    "# Training\n",
    "for epoch in range(epochs):\n",
    "    model.train()\n",
    "    total_loss = 0\n",
    "    total_correct = 0\n",
    "    total_examples = 0\n",
    "\n",
    "    for batch in tqdm(dataloader, desc=f\"Epoch {epoch+1}/{epochs}\"):\n",
    "        image_emb = batch[\"image_embedding\"].to(device)  # (B, D)\n",
    "        neural_data = batch[\"neural_activity\"].to(device)  # (B, N)\n",
    "\n",
    "        B, N = neural_data.shape\n",
    "\n",
    "        neuron_idx = torch.randint(0, N, (B, neuron_batch_size), device=device)  # (B, K)\n",
    "        target = torch.gather(neural_data, dim=1, index=neuron_idx)  # (B, K)\n",
    "\n",
    "        preds = model(image_emb, neuron_idx)  # (B, K)\n",
    "        loss = F.binary_cross_entropy_with_logits(preds, target)\n",
    "\n",
    "        optimizer.zero_grad()\n",
    "        loss.backward()\n",
    "        optimizer.step()\n",
    "\n",
    "        total_loss += loss.item() * B * neuron_batch_size\n",
    "        preds_binary = (torch.sigmoid(preds) > 0.5).float()\n",
    "        correct = (preds_binary == target).sum().item()\n",
    "        total_correct += correct\n",
    "        total_examples += B * neuron_batch_size\n",
    "\n",
    "    avg_loss = total_loss / (len(dataset) * neuron_batch_size)\n",
    "    accuracy = total_correct / total_examples\n",
    "    print(f\"Epoch {epoch+1}: Loss={avg_loss:.4f}, Accuracy={accuracy:.4f}\")\n"
   ]
  }
 ],
 "metadata": {
  "kernelspec": {
   "display_name": "Python (Global 3.10)",
   "language": "python",
   "name": "global-310"
  },
  "language_info": {
   "codemirror_mode": {
    "name": "ipython",
    "version": 3
   },
   "file_extension": ".py",
   "mimetype": "text/x-python",
   "name": "python",
   "nbconvert_exporter": "python",
   "pygments_lexer": "ipython3",
   "version": "3.12.3"
  }
 },
 "nbformat": 4,
 "nbformat_minor": 5
}
